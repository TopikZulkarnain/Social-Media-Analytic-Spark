{
 "cells": [
  {
   "cell_type": "markdown",
   "metadata": {},
   "source": [
    "# Practice Case for Social Media Analysis with SPARK\n",
    "### Topik Zulkarnain\n",
    "***\n",
    "This notebook provided sentiment analysis with spark, on this case I’ll be use twitter data contains only two columns which is text and target. The purpose of this analysis is to make model for classifying the tweets wether the tweet include in the negative sentiment or positive sentiment. Without further a do, lets just started it.\n",
    "\n",
    "1. Data Preparation<br>\n",
    "2. Data Preprocessing<br>\n",
    "   2.1 Lower Casing<br>\n",
    "   2.2 Punctuation Removal<br>\n",
    "   2.3 Spelling Correction<br> \n",
    "   2.4 Normalization<br>\n",
    "   2.5 Stopword Removal<br>\n",
    "   2.6 Tokenization<br>\n",
    "   2.7 Lemmatization<br>\n",
    "   2.8 Stemming<br> \n",
    "3. Sentiment Analysis<br>\n",
    "   3.1 Visualization<br>\n",
    "   3.2 Feature Extraction<br>\n",
    "   3.3 Modelling and Model Evaluation<br>\n",
    "\n",
    "<br>\n",
    "***\n"
   ]
  },
  {
   "cell_type": "markdown",
   "metadata": {},
   "source": [
    "## 1. Data Preparation\n",
    "#### Import Dataset\n",
    "\n",
    "First thing first, I’ll import the dataset on spark. The dataset name is clean_tweet with csv format, this data contains only two columns which is text and target. <br>\n",
    "•\tText : tweet data <br>\n",
    "•\tTarget : the sentiment of tweet <br>"
   ]
  },
  {
   "cell_type": "code",
   "execution_count": 1,
   "metadata": {},
   "outputs": [],
   "source": [
    "import pandas\n",
    "import random\n",
    "\n",
    "filename = \"clean_tweet.csv\"\n",
    "n = sum(1 for line in open(filename)) - 1 #number of records in file (excludes header)\n",
    "s = 800000 #desired sample size\n",
    "skip = sorted(random.sample(range(1,n+1),n-s)) #the 0-indexed header will not be included in the skip list\n",
    "df = pandas.read_csv(filename, skiprows=skip)"
   ]
  },
  {
   "cell_type": "code",
   "execution_count": 2,
   "metadata": {},
   "outputs": [
    {
     "data": {
      "text/html": [
       "<div>\n",
       "<style scoped>\n",
       "    .dataframe tbody tr th:only-of-type {\n",
       "        vertical-align: middle;\n",
       "    }\n",
       "\n",
       "    .dataframe tbody tr th {\n",
       "        vertical-align: top;\n",
       "    }\n",
       "\n",
       "    .dataframe thead th {\n",
       "        text-align: right;\n",
       "    }\n",
       "</style>\n",
       "<table border=\"1\" class=\"dataframe\">\n",
       "  <thead>\n",
       "    <tr style=\"text-align: right;\">\n",
       "      <th></th>\n",
       "      <th>text</th>\n",
       "      <th>target</th>\n",
       "    </tr>\n",
       "  </thead>\n",
       "  <tbody>\n",
       "    <tr>\n",
       "      <th>0</th>\n",
       "      <td>awww that s a bummer you shoulda got david car...</td>\n",
       "      <td>0</td>\n",
       "    </tr>\n",
       "    <tr>\n",
       "      <th>1</th>\n",
       "      <td>i dived many times for the ball managed to sav...</td>\n",
       "      <td>0</td>\n",
       "    </tr>\n",
       "    <tr>\n",
       "      <th>2</th>\n",
       "      <td>no it s not behaving at all i m mad why am i h...</td>\n",
       "      <td>0</td>\n",
       "    </tr>\n",
       "    <tr>\n",
       "      <th>3</th>\n",
       "      <td>need a hug</td>\n",
       "      <td>0</td>\n",
       "    </tr>\n",
       "    <tr>\n",
       "      <th>4</th>\n",
       "      <td>hey long time no see yes rains a bit only a bi...</td>\n",
       "      <td>0</td>\n",
       "    </tr>\n",
       "  </tbody>\n",
       "</table>\n",
       "</div>"
      ],
      "text/plain": [
       "                                                text  target\n",
       "0  awww that s a bummer you shoulda got david car...       0\n",
       "1  i dived many times for the ball managed to sav...       0\n",
       "2  no it s not behaving at all i m mad why am i h...       0\n",
       "3                                         need a hug       0\n",
       "4  hey long time no see yes rains a bit only a bi...       0"
      ]
     },
     "execution_count": 2,
     "metadata": {},
     "output_type": "execute_result"
    }
   ],
   "source": [
    "df.head()"
   ]
  },
  {
   "cell_type": "markdown",
   "metadata": {},
   "source": [
    "I want to check the number of each sentiment,"
   ]
  },
  {
   "cell_type": "code",
   "execution_count": 3,
   "metadata": {},
   "outputs": [
    {
     "data": {
      "text/html": [
       "<div>\n",
       "<style scoped>\n",
       "    .dataframe tbody tr th:only-of-type {\n",
       "        vertical-align: middle;\n",
       "    }\n",
       "\n",
       "    .dataframe tbody tr th {\n",
       "        vertical-align: top;\n",
       "    }\n",
       "\n",
       "    .dataframe thead th {\n",
       "        text-align: right;\n",
       "    }\n",
       "</style>\n",
       "<table border=\"1\" class=\"dataframe\">\n",
       "  <thead>\n",
       "    <tr style=\"text-align: right;\">\n",
       "      <th></th>\n",
       "      <th>text</th>\n",
       "    </tr>\n",
       "    <tr>\n",
       "      <th>target</th>\n",
       "      <th></th>\n",
       "    </tr>\n",
       "  </thead>\n",
       "  <tbody>\n",
       "    <tr>\n",
       "      <th>0</th>\n",
       "      <td>399665</td>\n",
       "    </tr>\n",
       "    <tr>\n",
       "      <th>1</th>\n",
       "      <td>398718</td>\n",
       "    </tr>\n",
       "  </tbody>\n",
       "</table>\n",
       "</div>"
      ],
      "text/plain": [
       "          text\n",
       "target        \n",
       "0       399665\n",
       "1       398718"
      ]
     },
     "execution_count": 3,
     "metadata": {},
     "output_type": "execute_result"
    }
   ],
   "source": [
    "df_number_of_each_sentiment = df.groupby(['target']).count()\n",
    "df_number_of_each_sentiment"
   ]
  },
  {
   "cell_type": "markdown",
   "metadata": {},
   "source": [
    "From the output image above, the data have a big equal number of sentiment which 800 thousand each. Next, I want to check if theres a missing values on both columns,"
   ]
  },
  {
   "cell_type": "code",
   "execution_count": 4,
   "metadata": {},
   "outputs": [
    {
     "data": {
      "text/plain": [
       "text      1617\n",
       "target       0\n",
       "dtype: int64"
      ]
     },
     "execution_count": 4,
     "metadata": {},
     "output_type": "execute_result"
    }
   ],
   "source": [
    "df.isnull().sum()"
   ]
  },
  {
   "cell_type": "markdown",
   "metadata": {},
   "source": [
    "As from the output above, only text columns contains 3.247 missing values. There are several ways to handle missing values on data which is ignored it, drop it, or use statistical descriptive to fill it. For this case I prefer to drop missing data. Now the data has no missing values anymore, we can now proceed to make a modeling to classifying sentiment of tweet."
   ]
  },
  {
   "cell_type": "code",
   "execution_count": 5,
   "metadata": {},
   "outputs": [
    {
     "data": {
      "text/plain": [
       "(798383, 2)"
      ]
     },
     "execution_count": 5,
     "metadata": {},
     "output_type": "execute_result"
    }
   ],
   "source": [
    "df = df.dropna()\n",
    "df.shape"
   ]
  },
  {
   "cell_type": "markdown",
   "metadata": {},
   "source": [
    "## 2. Text Preprocessing\n",
    "These steps are needed for transferring text from human language to machine-readable format for further processing"
   ]
  },
  {
   "cell_type": "markdown",
   "metadata": {},
   "source": [
    "### 2.1 Lower Casing"
   ]
  },
  {
   "cell_type": "code",
   "execution_count": 6,
   "metadata": {},
   "outputs": [
    {
     "data": {
      "text/plain": [
       "0    awww that s a bummer you shoulda got david car...\n",
       "1    i dived many times for the ball managed to sav...\n",
       "2    no it s not behaving at all i m mad why am i h...\n",
       "3                                           need a hug\n",
       "4    hey long time no see yes rains a bit only a bi...\n",
       "Name: text, dtype: object"
      ]
     },
     "execution_count": 6,
     "metadata": {},
     "output_type": "execute_result"
    }
   ],
   "source": [
    "df['text'] = df['text'].apply(lambda x: \" \".join(x.lower() for x in x.split()))\n",
    "df['text'].head(5)"
   ]
  },
  {
   "cell_type": "markdown",
   "metadata": {},
   "source": [
    "### 2.2 Punctuation Removal"
   ]
  },
  {
   "cell_type": "code",
   "execution_count": 7,
   "metadata": {},
   "outputs": [
    {
     "data": {
      "text/plain": [
       "0    awww that s a bummer you shoulda got david car...\n",
       "1    i dived many times for the ball managed to sav...\n",
       "2    no it s not behaving at all i m mad why am i h...\n",
       "3                                           need a hug\n",
       "4    hey long time no see yes rains a bit only a bi...\n",
       "Name: text, dtype: object"
      ]
     },
     "execution_count": 7,
     "metadata": {},
     "output_type": "execute_result"
    }
   ],
   "source": [
    "df['text'] = df['text'].str.replace('[^\\w\\s]','')\n",
    "df['text'].head(5)"
   ]
  },
  {
   "cell_type": "markdown",
   "metadata": {},
   "source": [
    "### 2.3 Stopwords Removal "
   ]
  },
  {
   "cell_type": "code",
   "execution_count": 8,
   "metadata": {},
   "outputs": [
    {
     "data": {
      "text/plain": [
       "0         awww bummer shoulda got david carr third day\n",
       "1    dived many times ball managed save rest go bounds\n",
       "2                                     behaving mad see\n",
       "3                                             need hug\n",
       "4    hey long time see yes rains bit bit lol fine t...\n",
       "Name: text, dtype: object"
      ]
     },
     "execution_count": 8,
     "metadata": {},
     "output_type": "execute_result"
    }
   ],
   "source": [
    "from nltk.corpus import stopwords\n",
    "stop = stopwords.words('english')\n",
    "df['text'] = df['text'].apply(lambda x: \" \".join(x for x in x.split() if x not in stop))\n",
    "df['text'].head(5)"
   ]
  },
  {
   "cell_type": "markdown",
   "metadata": {},
   "source": [
    "### 2.4 Rare Words Removal"
   ]
  },
  {
   "cell_type": "code",
   "execution_count": 9,
   "metadata": {},
   "outputs": [
    {
     "data": {
      "text/plain": [
       "forhim                  1\n",
       "spgridview              1\n",
       "hollywoodbound          1\n",
       "distatcions             1\n",
       "randalio                1\n",
       "dirkie                  1\n",
       "handend                 1\n",
       "dort                    1\n",
       "velcroshoes             1\n",
       "undergraduatedegrees    1\n",
       "dtype: int64"
      ]
     },
     "execution_count": 9,
     "metadata": {},
     "output_type": "execute_result"
    }
   ],
   "source": [
    "rare_word = pandas.Series(' '.join(df['text']).split()).value_counts()[-10:]\n",
    "rare_word"
   ]
  },
  {
   "cell_type": "markdown",
   "metadata": {},
   "source": [
    "### 2.5 Spelling Correction"
   ]
  },
  {
   "cell_type": "code",
   "execution_count": 10,
   "metadata": {},
   "outputs": [
    {
     "data": {
      "text/plain": [
       "0           www summer should got david care third day\n",
       "1    dived many times ball managed save rest go bounds\n",
       "2                                     behaving mad see\n",
       "3                                             need hug\n",
       "4    hey long time see yes rains bit bit ll fine th...\n",
       "Name: text, dtype: object"
      ]
     },
     "execution_count": 10,
     "metadata": {},
     "output_type": "execute_result"
    }
   ],
   "source": [
    "from textblob import TextBlob\n",
    "df['text'][:5].apply(lambda x: str(TextBlob(x).correct()))"
   ]
  },
  {
   "cell_type": "markdown",
   "metadata": {},
   "source": [
    "### 2.6 Tokenization"
   ]
  },
  {
   "cell_type": "code",
   "execution_count": 11,
   "metadata": {},
   "outputs": [
    {
     "data": {
      "text/plain": [
       "WordList(['dived', 'many', 'times', 'ball', 'managed', 'save', 'rest', 'go', 'bounds'])"
      ]
     },
     "execution_count": 11,
     "metadata": {},
     "output_type": "execute_result"
    }
   ],
   "source": [
    "import nltk\n",
    "TextBlob(df['text'][1]).words"
   ]
  },
  {
   "cell_type": "markdown",
   "metadata": {},
   "source": [
    "### 2.7 Stemming "
   ]
  },
  {
   "cell_type": "code",
   "execution_count": 12,
   "metadata": {},
   "outputs": [],
   "source": [
    "from nltk.stem import PorterStemmer\n",
    "st = PorterStemmer()\n",
    "df['text'] = df['text'][:].apply(lambda x: \" \".join([st.stem(word) for word in x.split()]))"
   ]
  },
  {
   "cell_type": "code",
   "execution_count": 13,
   "metadata": {},
   "outputs": [
    {
     "data": {
      "text/plain": [
       "0        awww bummer shoulda got david carr third day\n",
       "1        dive mani time ball manag save rest go bound\n",
       "2                                       behav mad see\n",
       "3                                            need hug\n",
       "4    hey long time see ye rain bit bit lol fine thank\n",
       "Name: text, dtype: object"
      ]
     },
     "execution_count": 13,
     "metadata": {},
     "output_type": "execute_result"
    }
   ],
   "source": [
    "df['text'].head()"
   ]
  },
  {
   "cell_type": "markdown",
   "metadata": {},
   "source": [
    "### 2.8 Lemmatization"
   ]
  },
  {
   "cell_type": "code",
   "execution_count": 14,
   "metadata": {},
   "outputs": [
    {
     "data": {
      "text/plain": [
       "0        awww bummer shoulda got david carr third day\n",
       "1        dive mani time ball manag save rest go bound\n",
       "2                                       behav mad see\n",
       "3                                            need hug\n",
       "4    hey long time see ye rain bit bit lol fine thank\n",
       "Name: text, dtype: object"
      ]
     },
     "execution_count": 14,
     "metadata": {},
     "output_type": "execute_result"
    }
   ],
   "source": [
    "from textblob import Word\n",
    "df['text'] = df['text'].apply(lambda x: \" \".join([Word(word).lemmatize() for word in x.split()]))\n",
    "df['text'].head()"
   ]
  },
  {
   "cell_type": "markdown",
   "metadata": {},
   "source": [
    "## 3. Sentiment Analysis"
   ]
  },
  {
   "cell_type": "markdown",
   "metadata": {},
   "source": [
    "### 3.1 Visualization\n",
    "On this step, I want to take a look closer data and want to know what is the frequent word use on each sentiment by using wordcloud. From this, I can at least know what caused sentiment by look at the wordcloud"
   ]
  },
  {
   "cell_type": "code",
   "execution_count": 15,
   "metadata": {},
   "outputs": [],
   "source": [
    "from wordcloud import WordCloud, STOPWORDS\n",
    "positive = df[df['target'] == 1]\n",
    "negative = df[df['target'] == 0]"
   ]
  },
  {
   "cell_type": "code",
   "execution_count": 16,
   "metadata": {},
   "outputs": [],
   "source": [
    "import matplotlib.pyplot as plt\n",
    "plt.figure(figsize=(20,120))\n",
    "def create_word_cloud(string):\n",
    "    cloud = WordCloud(background_color = \"white\", max_words = 50, stopwords = set(STOPWORDS)).generate(string)\n",
    "    plt.imshow(cloud, interpolation='bilinear')\n",
    "    plt.axis('off')\n",
    "    plt.show()"
   ]
  },
  {
   "cell_type": "code",
   "execution_count": 17,
   "metadata": {},
   "outputs": [],
   "source": [
    "all_description_positive = \"\".join(positive.text.values)\n",
    "all_description_negative = \"\".join(negative.text.values)"
   ]
  },
  {
   "cell_type": "code",
   "execution_count": 18,
   "metadata": {},
   "outputs": [
    {
     "data": {
      "image/png": "[encoded data removed]",
      "text/plain": [
       "<matplotlib.figure.Figure at 0x2613c3cf128>"
      ]
     },
     "metadata": {},
     "output_type": "display_data"
    }
   ],
   "source": [
    "create_word_cloud(all_description_positive)"
   ]
  },
  {
   "cell_type": "markdown",
   "metadata": {},
   "source": [
    "for positive sentiment, most often words appears can be seen in the picture above"
   ]
  },
  {
   "cell_type": "code",
   "execution_count": 19,
   "metadata": {},
   "outputs": [
    {
     "data": {
      "image/png": "[encoded data removed]",
      "text/plain": [
       "<matplotlib.figure.Figure at 0x2613c2ea080>"
      ]
     },
     "metadata": {},
     "output_type": "display_data"
    }
   ],
   "source": [
    "create_word_cloud(all_description_negative)"
   ]
  },
  {
   "cell_type": "markdown",
   "metadata": {},
   "source": [
    "for negative sentiment, most often words appears can be seen in the picture above"
   ]
  },
  {
   "cell_type": "markdown",
   "metadata": {},
   "source": [
    "### 3.2 Feature Extraction\n",
    "On this analysis, I'll use two kind of feature extraction CountVectorizer and TF-IDF and later on we will comparing and evaluating which Feature extraction fit best for this problem"
   ]
  },
  {
   "cell_type": "code",
   "execution_count": 20,
   "metadata": {},
   "outputs": [
    {
     "name": "stderr",
     "output_type": "stream",
     "text": [
      "C:\\Users\\topikz064115\\AppData\\Local\\Continuum\\anaconda3\\lib\\site-packages\\sklearn\\ensemble\\weight_boosting.py:29: DeprecationWarning: numpy.core.umath_tests is an internal NumPy module and should not be imported. It will be removed in a future NumPy release.\n",
      "  from numpy.core.umath_tests import inner1d\n"
     ]
    }
   ],
   "source": [
    "#import sklearn preprocessing \n",
    "from sklearn.pipeline import Pipeline\n",
    "from sklearn.feature_extraction.text import CountVectorizer\n",
    "from sklearn.feature_extraction.text import TfidfTransformer\n",
    "from sklearn.feature_extraction.text import TfidfVectorizer\n",
    "\n",
    "#import sklearn for modeling\n",
    "from sklearn import svm\n",
    "from sklearn.naive_bayes import MultinomialNB\n",
    "from sklearn.linear_model import LogisticRegression\n",
    "from sklearn.ensemble import RandomForestClassifier\n",
    "from sklearn.model_selection import train_test_split\n",
    "\n",
    "#import sklearn for model evaluation \n",
    "from sklearn.metrics import confusion_matrix, classification_report\n",
    "from sklearn.metrics import accuracy_score, precision_score, recall_score, f1_score"
   ]
  },
  {
   "cell_type": "code",
   "execution_count": 21,
   "metadata": {},
   "outputs": [],
   "source": [
    "count_vectorizer = CountVectorizer(stop_words='english')"
   ]
  },
  {
   "cell_type": "code",
   "execution_count": 22,
   "metadata": {},
   "outputs": [],
   "source": [
    "tfidf = TfidfVectorizer(stop_words='english' )"
   ]
  },
  {
   "cell_type": "code",
   "execution_count": 23,
   "metadata": {},
   "outputs": [],
   "source": [
    "X = df['text']\n",
    "y = df['target']"
   ]
  },
  {
   "cell_type": "code",
   "execution_count": 24,
   "metadata": {},
   "outputs": [],
   "source": [
    "#countvectorizer\n",
    "X_vectorizer = count_vectorizer.fit_transform(X)\n",
    "\n",
    "#tfidf vectorizer\n",
    "X_tfidf = tfidf.fit_transform(X)"
   ]
  },
  {
   "cell_type": "markdown",
   "metadata": {},
   "source": [
    "since we have data with big entries, its safe to split data only 10% for test set and 90% for train set"
   ]
  },
  {
   "cell_type": "code",
   "execution_count": 25,
   "metadata": {},
   "outputs": [],
   "source": [
    "#train test split using countvectorizer \n",
    "train_X_vectorizer, test_X_vectorizer, train_y, test_y = train_test_split(X_vectorizer, y, test_size=0.1, random_state=0)\n",
    "\n",
    "#train test split using tfidfvectorizer \n",
    "train_X_tfidf, test_X_tfidf, train_y, test_y = train_test_split(X_tfidf, y, test_size=0.1, random_state=0)"
   ]
  },
  {
   "cell_type": "markdown",
   "metadata": {},
   "source": [
    "### 3.3 Modelling and Model Evaluation\n",
    "I will comparing 2 model which is Logistic Regression both with CountVectorizer and TF-IDF and Naive Bayes with CountVectorizer and TF-IDF also. For deciding which model and which feature extraction is the best, I'll evaluate model using recall, precision, and F1 Score "
   ]
  },
  {
   "cell_type": "markdown",
   "metadata": {},
   "source": [
    "### Using Logistic Regression"
   ]
  },
  {
   "cell_type": "code",
   "execution_count": 26,
   "metadata": {},
   "outputs": [],
   "source": [
    "# Countvectorizer \n",
    "Lr_vect = LogisticRegression()\n",
    "Lr_vect.fit(train_X_vectorizer,train_y)\n",
    "Lr_pred_vect_train = Lr_vect.predict(train_X_vectorizer)\n",
    "Lr_pred_vect_test = Lr_vect.predict(test_X_vectorizer)"
   ]
  },
  {
   "cell_type": "code",
   "execution_count": 27,
   "metadata": {},
   "outputs": [],
   "source": [
    "# TFIDFVectorizer\n",
    "Lr_tfidf = LogisticRegression()\n",
    "Lr_tfidf.fit(train_X_tfidf,train_y)\n",
    "Lr_pred_tfidf_train = Lr_tfidf.predict(train_X_tfidf)\n",
    "Lr_pred_tfidf_test = Lr_tfidf.predict(test_X_tfidf)"
   ]
  },
  {
   "cell_type": "code",
   "execution_count": 28,
   "metadata": {},
   "outputs": [
    {
     "name": "stdout",
     "output_type": "stream",
     "text": [
      "______________ Countvectorizer ______________\n",
      "Information :\n",
      "Recall train & test     : 80.11% & 76.67%\n",
      "Precision train & test  : 80.11% & 76.67%\n",
      "F1 Score train & test   : 80.11% & 76.67%\n"
     ]
    }
   ],
   "source": [
    "# using count vectorizer\n",
    "print(\"______________ Countvectorizer ______________\")\n",
    "\n",
    "Lr_recall_vec_train = recall_score(train_y, Lr_pred_vect_train, average=\"micro\")\n",
    "Lr_recall_vec_test = recall_score(test_y, Lr_pred_vect_test,average=\"micro\") \n",
    "\n",
    "Lr_precision_vec_train = precision_score(train_y, Lr_pred_vect_train,average=\"micro\")\n",
    "Lr_precision_vec_test = precision_score(test_y, Lr_pred_vect_test,average=\"micro\")\n",
    "\n",
    "Lr_f1_score_vec_train = f1_score(train_y, Lr_pred_vect_train,average=\"micro\")\n",
    "Lr_f1_score_vec_test = f1_score(test_y,Lr_pred_vect_test,average=\"micro\")\n",
    "\n",
    "print('Information :')\n",
    "print('Recall train & test     : %.2f%%' % (Lr_recall_vec_train * 100), '&', '%.2f%%' % (Lr_recall_vec_test * 100))\n",
    "print('Precision train & test  : %.2f%%' % (Lr_precision_vec_train * 100), '&', '%.2f%%' % (Lr_precision_vec_test * 100))\n",
    "print('F1 Score train & test   : %.2f%%' % (Lr_f1_score_vec_train * 100), '&', '%.2f%%' % (Lr_f1_score_vec_test * 100))"
   ]
  },
  {
   "cell_type": "code",
   "execution_count": 29,
   "metadata": {},
   "outputs": [
    {
     "name": "stdout",
     "output_type": "stream",
     "text": [
      "______________ TF-IDF ______________\n",
      "Information :\n",
      "Recall train & test     : 79.24% & 76.83%\n",
      "Precision train & test  : 79.24% & 76.83%\n",
      "F1 Score train & test   : 79.24% & 76.67%\n"
     ]
    }
   ],
   "source": [
    "# using count vectorizer\n",
    "print(\"______________ TF-IDF ______________\")\n",
    "\n",
    "\n",
    "Lr_recall_tfidf_train = recall_score(train_y, Lr_pred_tfidf_train, average=\"micro\")\n",
    "Lr_recall_tfidf_test = recall_score(test_y, Lr_pred_tfidf_test,average=\"micro\") \n",
    "\n",
    "Lr_precision_tfidf_train = precision_score(train_y, Lr_pred_tfidf_train,average=\"micro\")\n",
    "Lr_precision_tfidf_test = precision_score(test_y, Lr_pred_tfidf_test,average=\"micro\")\n",
    "\n",
    "Lr_f1_score_tfidf_train = f1_score(train_y, Lr_pred_tfidf_train,average=\"micro\")\n",
    "Lr_f1_score_tfidf_test = f1_score(test_y,Lr_pred_tfidf_test,average=\"micro\")\n",
    "\n",
    "print('Information :')\n",
    "print('Recall train & test     : %.2f%%' % (Lr_recall_tfidf_train * 100), '&', '%.2f%%' % (Lr_recall_tfidf_test * 100))\n",
    "print('Precision train & test  : %.2f%%' % (Lr_precision_tfidf_train * 100), '&', '%.2f%%' % (Lr_precision_tfidf_test * 100))\n",
    "print('F1 Score train & test   : %.2f%%' % (Lr_f1_score_tfidf_train * 100), '&', '%.2f%%' % (Lr_f1_score_vec_test * 100))"
   ]
  },
  {
   "cell_type": "markdown",
   "metadata": {},
   "source": [
    "### Using Naive Bayes"
   ]
  },
  {
   "cell_type": "code",
   "execution_count": 30,
   "metadata": {},
   "outputs": [],
   "source": [
    "# Countvectorizer\n",
    "NB_vect = MultinomialNB()\n",
    "NB_vect.fit(train_X_vectorizer,train_y)\n",
    "NB_pred_vect_train = NB_vect.predict(train_X_vectorizer)\n",
    "NB_pred_vect_test = NB_vect.predict(test_X_vectorizer)"
   ]
  },
  {
   "cell_type": "code",
   "execution_count": 31,
   "metadata": {},
   "outputs": [],
   "source": [
    "# TFIDFVectorizer\n",
    "#from sklearn.naive_bayes import GaussianNB\n",
    "NB_tfidf = MultinomialNB()\n",
    "NB_tfidf.fit(train_X_tfidf,train_y)\n",
    "NB_pred_tfidf_train = NB_tfidf.predict(train_X_tfidf)\n",
    "NB_pred_tfidf_test = NB_tfidf.predict(test_X_tfidf)"
   ]
  },
  {
   "cell_type": "code",
   "execution_count": 32,
   "metadata": {},
   "outputs": [
    {
     "name": "stdout",
     "output_type": "stream",
     "text": [
      "______________ Countvectorizer ______________\n",
      "Information :\n",
      "Recall train & test     : 78.91% & 75.87%\n",
      "Precision train & test  : 78.91% & 75.87%\n",
      "F1 Score train & test   : 78.91% & 75.87%\n"
     ]
    }
   ],
   "source": [
    "# find model evaluation for naive bayes\n",
    "# using count vectorizer\n",
    "print(\"______________ Countvectorizer ______________\")\n",
    "\n",
    "\n",
    "NB_recall_vec_train = recall_score(train_y, NB_pred_vect_train, average=\"micro\")\n",
    "NB_recall_vec_test = recall_score(test_y, NB_pred_vect_test,average=\"micro\") \n",
    "\n",
    "NB_precision_vec_train = precision_score(train_y, NB_pred_vect_train,average=\"micro\")\n",
    "NB_precision_vec_test = precision_score(test_y, NB_pred_vect_test,average=\"micro\")\n",
    "\n",
    "NB_f1_score_vec_train = f1_score(train_y, NB_pred_vect_train,average=\"micro\")\n",
    "NB_f1_score_vec_test = f1_score(test_y,NB_pred_vect_test,average=\"micro\")\n",
    "\n",
    "print('Information :')\n",
    "print('Recall train & test     : %.2f%%' % (NB_recall_vec_train * 100), '&', '%.2f%%' % (NB_recall_vec_test * 100))\n",
    "print('Precision train & test  : %.2f%%' % (NB_precision_vec_train * 100), '&', '%.2f%%' % (NB_precision_vec_test * 100))\n",
    "print('F1 Score train & test   : %.2f%%' % (NB_f1_score_vec_train * 100), '&', '%.2f%%' % (NB_f1_score_vec_test * 100))"
   ]
  },
  {
   "cell_type": "code",
   "execution_count": 33,
   "metadata": {},
   "outputs": [
    {
     "name": "stdout",
     "output_type": "stream",
     "text": [
      "______________ TF-IDF ______________\n",
      "Information :\n",
      "Recall train & test     : 78.94% & 75.18%\n",
      "Precision train & test  : 78.94% & 75.18%\n",
      "F1 Score train & test   : 78.94% & 75.87%\n"
     ]
    }
   ],
   "source": [
    "# using count vectorizer\n",
    "print(\"______________ TF-IDF ______________\")\n",
    "\n",
    "\n",
    "NB_recall_tfidf_train = recall_score(train_y, NB_pred_tfidf_train, average=\"micro\")\n",
    "NB_recall_tfidf_test = recall_score(test_y, NB_pred_tfidf_test,average=\"micro\") \n",
    "\n",
    "NB_precision_tfidf_train = precision_score(train_y, NB_pred_tfidf_train,average=\"micro\")\n",
    "NB_precision_tfidf_test = precision_score(test_y, NB_pred_tfidf_test,average=\"micro\")\n",
    "\n",
    "NB_f1_score_tfidf_train = f1_score(train_y, NB_pred_tfidf_train,average=\"micro\")\n",
    "NB_f1_score_tfidf_test = f1_score(test_y,NB_pred_tfidf_test,average=\"micro\")\n",
    "\n",
    "print('Information :')\n",
    "print('Recall train & test     : %.2f%%' % (NB_recall_tfidf_train * 100), '&', '%.2f%%' % (NB_recall_tfidf_test * 100))\n",
    "print('Precision train & test  : %.2f%%' % (NB_precision_tfidf_train * 100), '&', '%.2f%%' % (NB_precision_tfidf_test * 100))\n",
    "print('F1 Score train & test   : %.2f%%' % (NB_f1_score_tfidf_train * 100), '&', '%.2f%%' % (NB_f1_score_vec_test * 100))"
   ]
  },
  {
   "cell_type": "markdown",
   "metadata": {},
   "source": [
    "## Conclusion\n",
    "Base on the result of two model with two feature extraction, I can conclude that the best model for classifying sentiment of tweet is Logistic Regression + CountVectorizer with Recall <br>\n",
    "Recall train & test     : 80.11% & 76.67%<br>\n",
    "Precision train & test  : 80.11% & 76.67%<br>\n",
    "F1 Score train & test   : 80.11% & 76.67%<br>"
   ]
  },
  {
   "cell_type": "code",
   "execution_count": null,
   "metadata": {},
   "outputs": [],
   "source": []
  }
 ],
 "metadata": {
  "kernelspec": {
   "display_name": "Python 3",
   "language": "python",
   "name": "python3"
  },
  "language_info": {
   "codemirror_mode": {
    "name": "ipython",
    "version": 3
   },
   "file_extension": ".py",
   "mimetype": "text/x-python",
   "name": "python",
   "nbconvert_exporter": "python",
   "pygments_lexer": "ipython3",
   "version": "3.6.4"
  }
 },
 "nbformat": 4,
 "nbformat_minor": 2
}
